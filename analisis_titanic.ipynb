{
  "nbformat": 4,
  "nbformat_minor": 0,
  "metadata": {
    "colab": {
      "provenance": [],
      "authorship_tag": "ABX9TyOSjMrnDoEVz8DUUbRR8QKd",
      "include_colab_link": true
    },
    "kernelspec": {
      "name": "python3",
      "display_name": "Python 3"
    },
    "language_info": {
      "name": "python"
    }
  },
  "cells": [
    {
      "cell_type": "markdown",
      "metadata": {
        "id": "view-in-github",
        "colab_type": "text"
      },
      "source": [
        "<a href=\"https://colab.research.google.com/github/amartinezv/Data-Engineer/blob/master/analisis_titanic.ipynb\" target=\"_parent\"><img src=\"https://colab.research.google.com/assets/colab-badge.svg\" alt=\"Open In Colab\"/></a>"
      ]
    },
    {
      "cell_type": "markdown",
      "source": [
        "# Analisis de datos del Titanic "
      ],
      "metadata": {
        "id": "jtdKTno0U5wY"
      }
    },
    {
      "cell_type": "markdown",
      "source": [
        "# 1. Cargando datos"
      ],
      "metadata": {
        "id": "HL9bL9g9VK_p"
      }
    },
    {
      "cell_type": "code",
      "execution_count": 1,
      "metadata": {
        "id": "yQ47f_rdEXAN"
      },
      "outputs": [],
      "source": [
        "import pandas as pd\n",
        "import numpy as np\n",
        "import matplotlib.pyplot as plt"
      ]
    },
    {
      "cell_type": "code",
      "source": [
        "#Lectura de datos\n",
        "train = pd.read_csv('/content/train.csv')\n",
        "test = pd.read_csv('/content/test.csv')"
      ],
      "metadata": {
        "id": "Bura2z-8VyoA"
      },
      "execution_count": 2,
      "outputs": []
    },
    {
      "cell_type": "code",
      "source": [
        "train.head()"
      ],
      "metadata": {
        "colab": {
          "base_uri": "https://localhost:8080/",
          "height": 320
        },
        "id": "F9OhcGzxWEEW",
        "outputId": "e202aebe-ec02-4041-f39c-0e2a3b813b51"
      },
      "execution_count": 3,
      "outputs": [
        {
          "output_type": "execute_result",
          "data": {
            "text/plain": [
              "   PassengerId  Survived  Pclass  \\\n",
              "0            1         0       3   \n",
              "1            2         1       1   \n",
              "2            3         1       3   \n",
              "3            4         1       1   \n",
              "4            5         0       3   \n",
              "\n",
              "                                                Name     Sex   Age  SibSp  \\\n",
              "0                            Braund, Mr. Owen Harris    male  22.0      1   \n",
              "1  Cumings, Mrs. John Bradley (Florence Briggs Th...  female  38.0      1   \n",
              "2                             Heikkinen, Miss. Laina  female  26.0      0   \n",
              "3       Futrelle, Mrs. Jacques Heath (Lily May Peel)  female  35.0      1   \n",
              "4                           Allen, Mr. William Henry    male  35.0      0   \n",
              "\n",
              "   Parch            Ticket     Fare Cabin Embarked  \n",
              "0      0         A/5 21171   7.2500   NaN        S  \n",
              "1      0          PC 17599  71.2833   C85        C  \n",
              "2      0  STON/O2. 3101282   7.9250   NaN        S  \n",
              "3      0            113803  53.1000  C123        S  \n",
              "4      0            373450   8.0500   NaN        S  "
            ],
            "text/html": [
              "\n",
              "  <div id=\"df-33bd2347-39d3-423b-9289-1ce1fc3b0f32\">\n",
              "    <div class=\"colab-df-container\">\n",
              "      <div>\n",
              "<style scoped>\n",
              "    .dataframe tbody tr th:only-of-type {\n",
              "        vertical-align: middle;\n",
              "    }\n",
              "\n",
              "    .dataframe tbody tr th {\n",
              "        vertical-align: top;\n",
              "    }\n",
              "\n",
              "    .dataframe thead th {\n",
              "        text-align: right;\n",
              "    }\n",
              "</style>\n",
              "<table border=\"1\" class=\"dataframe\">\n",
              "  <thead>\n",
              "    <tr style=\"text-align: right;\">\n",
              "      <th></th>\n",
              "      <th>PassengerId</th>\n",
              "      <th>Survived</th>\n",
              "      <th>Pclass</th>\n",
              "      <th>Name</th>\n",
              "      <th>Sex</th>\n",
              "      <th>Age</th>\n",
              "      <th>SibSp</th>\n",
              "      <th>Parch</th>\n",
              "      <th>Ticket</th>\n",
              "      <th>Fare</th>\n",
              "      <th>Cabin</th>\n",
              "      <th>Embarked</th>\n",
              "    </tr>\n",
              "  </thead>\n",
              "  <tbody>\n",
              "    <tr>\n",
              "      <th>0</th>\n",
              "      <td>1</td>\n",
              "      <td>0</td>\n",
              "      <td>3</td>\n",
              "      <td>Braund, Mr. Owen Harris</td>\n",
              "      <td>male</td>\n",
              "      <td>22.0</td>\n",
              "      <td>1</td>\n",
              "      <td>0</td>\n",
              "      <td>A/5 21171</td>\n",
              "      <td>7.2500</td>\n",
              "      <td>NaN</td>\n",
              "      <td>S</td>\n",
              "    </tr>\n",
              "    <tr>\n",
              "      <th>1</th>\n",
              "      <td>2</td>\n",
              "      <td>1</td>\n",
              "      <td>1</td>\n",
              "      <td>Cumings, Mrs. John Bradley (Florence Briggs Th...</td>\n",
              "      <td>female</td>\n",
              "      <td>38.0</td>\n",
              "      <td>1</td>\n",
              "      <td>0</td>\n",
              "      <td>PC 17599</td>\n",
              "      <td>71.2833</td>\n",
              "      <td>C85</td>\n",
              "      <td>C</td>\n",
              "    </tr>\n",
              "    <tr>\n",
              "      <th>2</th>\n",
              "      <td>3</td>\n",
              "      <td>1</td>\n",
              "      <td>3</td>\n",
              "      <td>Heikkinen, Miss. Laina</td>\n",
              "      <td>female</td>\n",
              "      <td>26.0</td>\n",
              "      <td>0</td>\n",
              "      <td>0</td>\n",
              "      <td>STON/O2. 3101282</td>\n",
              "      <td>7.9250</td>\n",
              "      <td>NaN</td>\n",
              "      <td>S</td>\n",
              "    </tr>\n",
              "    <tr>\n",
              "      <th>3</th>\n",
              "      <td>4</td>\n",
              "      <td>1</td>\n",
              "      <td>1</td>\n",
              "      <td>Futrelle, Mrs. Jacques Heath (Lily May Peel)</td>\n",
              "      <td>female</td>\n",
              "      <td>35.0</td>\n",
              "      <td>1</td>\n",
              "      <td>0</td>\n",
              "      <td>113803</td>\n",
              "      <td>53.1000</td>\n",
              "      <td>C123</td>\n",
              "      <td>S</td>\n",
              "    </tr>\n",
              "    <tr>\n",
              "      <th>4</th>\n",
              "      <td>5</td>\n",
              "      <td>0</td>\n",
              "      <td>3</td>\n",
              "      <td>Allen, Mr. William Henry</td>\n",
              "      <td>male</td>\n",
              "      <td>35.0</td>\n",
              "      <td>0</td>\n",
              "      <td>0</td>\n",
              "      <td>373450</td>\n",
              "      <td>8.0500</td>\n",
              "      <td>NaN</td>\n",
              "      <td>S</td>\n",
              "    </tr>\n",
              "  </tbody>\n",
              "</table>\n",
              "</div>\n",
              "      <button class=\"colab-df-convert\" onclick=\"convertToInteractive('df-33bd2347-39d3-423b-9289-1ce1fc3b0f32')\"\n",
              "              title=\"Convert this dataframe to an interactive table.\"\n",
              "              style=\"display:none;\">\n",
              "        \n",
              "  <svg xmlns=\"http://www.w3.org/2000/svg\" height=\"24px\"viewBox=\"0 0 24 24\"\n",
              "       width=\"24px\">\n",
              "    <path d=\"M0 0h24v24H0V0z\" fill=\"none\"/>\n",
              "    <path d=\"M18.56 5.44l.94 2.06.94-2.06 2.06-.94-2.06-.94-.94-2.06-.94 2.06-2.06.94zm-11 1L8.5 8.5l.94-2.06 2.06-.94-2.06-.94L8.5 2.5l-.94 2.06-2.06.94zm10 10l.94 2.06.94-2.06 2.06-.94-2.06-.94-.94-2.06-.94 2.06-2.06.94z\"/><path d=\"M17.41 7.96l-1.37-1.37c-.4-.4-.92-.59-1.43-.59-.52 0-1.04.2-1.43.59L10.3 9.45l-7.72 7.72c-.78.78-.78 2.05 0 2.83L4 21.41c.39.39.9.59 1.41.59.51 0 1.02-.2 1.41-.59l7.78-7.78 2.81-2.81c.8-.78.8-2.07 0-2.86zM5.41 20L4 18.59l7.72-7.72 1.47 1.35L5.41 20z\"/>\n",
              "  </svg>\n",
              "      </button>\n",
              "      \n",
              "  <style>\n",
              "    .colab-df-container {\n",
              "      display:flex;\n",
              "      flex-wrap:wrap;\n",
              "      gap: 12px;\n",
              "    }\n",
              "\n",
              "    .colab-df-convert {\n",
              "      background-color: #E8F0FE;\n",
              "      border: none;\n",
              "      border-radius: 50%;\n",
              "      cursor: pointer;\n",
              "      display: none;\n",
              "      fill: #1967D2;\n",
              "      height: 32px;\n",
              "      padding: 0 0 0 0;\n",
              "      width: 32px;\n",
              "    }\n",
              "\n",
              "    .colab-df-convert:hover {\n",
              "      background-color: #E2EBFA;\n",
              "      box-shadow: 0px 1px 2px rgba(60, 64, 67, 0.3), 0px 1px 3px 1px rgba(60, 64, 67, 0.15);\n",
              "      fill: #174EA6;\n",
              "    }\n",
              "\n",
              "    [theme=dark] .colab-df-convert {\n",
              "      background-color: #3B4455;\n",
              "      fill: #D2E3FC;\n",
              "    }\n",
              "\n",
              "    [theme=dark] .colab-df-convert:hover {\n",
              "      background-color: #434B5C;\n",
              "      box-shadow: 0px 1px 3px 1px rgba(0, 0, 0, 0.15);\n",
              "      filter: drop-shadow(0px 1px 2px rgba(0, 0, 0, 0.3));\n",
              "      fill: #FFFFFF;\n",
              "    }\n",
              "  </style>\n",
              "\n",
              "      <script>\n",
              "        const buttonEl =\n",
              "          document.querySelector('#df-33bd2347-39d3-423b-9289-1ce1fc3b0f32 button.colab-df-convert');\n",
              "        buttonEl.style.display =\n",
              "          google.colab.kernel.accessAllowed ? 'block' : 'none';\n",
              "\n",
              "        async function convertToInteractive(key) {\n",
              "          const element = document.querySelector('#df-33bd2347-39d3-423b-9289-1ce1fc3b0f32');\n",
              "          const dataTable =\n",
              "            await google.colab.kernel.invokeFunction('convertToInteractive',\n",
              "                                                     [key], {});\n",
              "          if (!dataTable) return;\n",
              "\n",
              "          const docLinkHtml = 'Like what you see? Visit the ' +\n",
              "            '<a target=\"_blank\" href=https://colab.research.google.com/notebooks/data_table.ipynb>data table notebook</a>'\n",
              "            + ' to learn more about interactive tables.';\n",
              "          element.innerHTML = '';\n",
              "          dataTable['output_type'] = 'display_data';\n",
              "          await google.colab.output.renderOutput(dataTable, element);\n",
              "          const docLink = document.createElement('div');\n",
              "          docLink.innerHTML = docLinkHtml;\n",
              "          element.appendChild(docLink);\n",
              "        }\n",
              "      </script>\n",
              "    </div>\n",
              "  </div>\n",
              "  "
            ]
          },
          "metadata": {},
          "execution_count": 3
        }
      ]
    },
    {
      "cell_type": "markdown",
      "source": [
        "# 2. Explorando Datos"
      ],
      "metadata": {
        "id": "K9ifZpq4WPFB"
      }
    },
    {
      "cell_type": "code",
      "source": [
        "train.columns"
      ],
      "metadata": {
        "colab": {
          "base_uri": "https://localhost:8080/"
        },
        "id": "-LMCwomEWNdC",
        "outputId": "fb5e9d9d-2b69-4fb5-a79b-aef0b9a1eacb"
      },
      "execution_count": 4,
      "outputs": [
        {
          "output_type": "execute_result",
          "data": {
            "text/plain": [
              "Index(['PassengerId', 'Survived', 'Pclass', 'Name', 'Sex', 'Age', 'SibSp',\n",
              "       'Parch', 'Ticket', 'Fare', 'Cabin', 'Embarked'],\n",
              "      dtype='object')"
            ]
          },
          "metadata": {},
          "execution_count": 4
        }
      ]
    },
    {
      "cell_type": "code",
      "source": [
        "train.shape"
      ],
      "metadata": {
        "colab": {
          "base_uri": "https://localhost:8080/"
        },
        "id": "C9o0AMGQWZPI",
        "outputId": "c8eb7c48-2a77-4349-b5ea-8b09ebaae2c5"
      },
      "execution_count": 5,
      "outputs": [
        {
          "output_type": "execute_result",
          "data": {
            "text/plain": [
              "(891, 12)"
            ]
          },
          "metadata": {},
          "execution_count": 5
        }
      ]
    },
    {
      "cell_type": "code",
      "source": [
        "train.info()"
      ],
      "metadata": {
        "colab": {
          "base_uri": "https://localhost:8080/"
        },
        "id": "DiP2Aan_XgVC",
        "outputId": "dc225658-95d5-41ad-cae1-665c2371343b"
      },
      "execution_count": 6,
      "outputs": [
        {
          "output_type": "stream",
          "name": "stdout",
          "text": [
            "<class 'pandas.core.frame.DataFrame'>\n",
            "RangeIndex: 891 entries, 0 to 890\n",
            "Data columns (total 12 columns):\n",
            " #   Column       Non-Null Count  Dtype  \n",
            "---  ------       --------------  -----  \n",
            " 0   PassengerId  891 non-null    int64  \n",
            " 1   Survived     891 non-null    int64  \n",
            " 2   Pclass       891 non-null    int64  \n",
            " 3   Name         891 non-null    object \n",
            " 4   Sex          891 non-null    object \n",
            " 5   Age          714 non-null    float64\n",
            " 6   SibSp        891 non-null    int64  \n",
            " 7   Parch        891 non-null    int64  \n",
            " 8   Ticket       891 non-null    object \n",
            " 9   Fare         891 non-null    float64\n",
            " 10  Cabin        204 non-null    object \n",
            " 11  Embarked     889 non-null    object \n",
            "dtypes: float64(2), int64(5), object(5)\n",
            "memory usage: 83.7+ KB\n"
          ]
        }
      ]
    },
    {
      "cell_type": "code",
      "source": [
        "#Como se distribuyen las variables numericas\n",
        "train.describe()"
      ],
      "metadata": {
        "colab": {
          "base_uri": "https://localhost:8080/",
          "height": 300
        },
        "id": "vX0qN8qcXxbN",
        "outputId": "215d6cfe-ef16-42fa-8526-9f92441f4b09"
      },
      "execution_count": 7,
      "outputs": [
        {
          "output_type": "execute_result",
          "data": {
            "text/plain": [
              "       PassengerId    Survived      Pclass         Age       SibSp  \\\n",
              "count   891.000000  891.000000  891.000000  714.000000  891.000000   \n",
              "mean    446.000000    0.383838    2.308642   29.699118    0.523008   \n",
              "std     257.353842    0.486592    0.836071   14.526497    1.102743   \n",
              "min       1.000000    0.000000    1.000000    0.420000    0.000000   \n",
              "25%     223.500000    0.000000    2.000000   20.125000    0.000000   \n",
              "50%     446.000000    0.000000    3.000000   28.000000    0.000000   \n",
              "75%     668.500000    1.000000    3.000000   38.000000    1.000000   \n",
              "max     891.000000    1.000000    3.000000   80.000000    8.000000   \n",
              "\n",
              "            Parch        Fare  \n",
              "count  891.000000  891.000000  \n",
              "mean     0.381594   32.204208  \n",
              "std      0.806057   49.693429  \n",
              "min      0.000000    0.000000  \n",
              "25%      0.000000    7.910400  \n",
              "50%      0.000000   14.454200  \n",
              "75%      0.000000   31.000000  \n",
              "max      6.000000  512.329200  "
            ],
            "text/html": [
              "\n",
              "  <div id=\"df-6a2e0a0a-cd41-4ca4-958f-1f7811509da5\">\n",
              "    <div class=\"colab-df-container\">\n",
              "      <div>\n",
              "<style scoped>\n",
              "    .dataframe tbody tr th:only-of-type {\n",
              "        vertical-align: middle;\n",
              "    }\n",
              "\n",
              "    .dataframe tbody tr th {\n",
              "        vertical-align: top;\n",
              "    }\n",
              "\n",
              "    .dataframe thead th {\n",
              "        text-align: right;\n",
              "    }\n",
              "</style>\n",
              "<table border=\"1\" class=\"dataframe\">\n",
              "  <thead>\n",
              "    <tr style=\"text-align: right;\">\n",
              "      <th></th>\n",
              "      <th>PassengerId</th>\n",
              "      <th>Survived</th>\n",
              "      <th>Pclass</th>\n",
              "      <th>Age</th>\n",
              "      <th>SibSp</th>\n",
              "      <th>Parch</th>\n",
              "      <th>Fare</th>\n",
              "    </tr>\n",
              "  </thead>\n",
              "  <tbody>\n",
              "    <tr>\n",
              "      <th>count</th>\n",
              "      <td>891.000000</td>\n",
              "      <td>891.000000</td>\n",
              "      <td>891.000000</td>\n",
              "      <td>714.000000</td>\n",
              "      <td>891.000000</td>\n",
              "      <td>891.000000</td>\n",
              "      <td>891.000000</td>\n",
              "    </tr>\n",
              "    <tr>\n",
              "      <th>mean</th>\n",
              "      <td>446.000000</td>\n",
              "      <td>0.383838</td>\n",
              "      <td>2.308642</td>\n",
              "      <td>29.699118</td>\n",
              "      <td>0.523008</td>\n",
              "      <td>0.381594</td>\n",
              "      <td>32.204208</td>\n",
              "    </tr>\n",
              "    <tr>\n",
              "      <th>std</th>\n",
              "      <td>257.353842</td>\n",
              "      <td>0.486592</td>\n",
              "      <td>0.836071</td>\n",
              "      <td>14.526497</td>\n",
              "      <td>1.102743</td>\n",
              "      <td>0.806057</td>\n",
              "      <td>49.693429</td>\n",
              "    </tr>\n",
              "    <tr>\n",
              "      <th>min</th>\n",
              "      <td>1.000000</td>\n",
              "      <td>0.000000</td>\n",
              "      <td>1.000000</td>\n",
              "      <td>0.420000</td>\n",
              "      <td>0.000000</td>\n",
              "      <td>0.000000</td>\n",
              "      <td>0.000000</td>\n",
              "    </tr>\n",
              "    <tr>\n",
              "      <th>25%</th>\n",
              "      <td>223.500000</td>\n",
              "      <td>0.000000</td>\n",
              "      <td>2.000000</td>\n",
              "      <td>20.125000</td>\n",
              "      <td>0.000000</td>\n",
              "      <td>0.000000</td>\n",
              "      <td>7.910400</td>\n",
              "    </tr>\n",
              "    <tr>\n",
              "      <th>50%</th>\n",
              "      <td>446.000000</td>\n",
              "      <td>0.000000</td>\n",
              "      <td>3.000000</td>\n",
              "      <td>28.000000</td>\n",
              "      <td>0.000000</td>\n",
              "      <td>0.000000</td>\n",
              "      <td>14.454200</td>\n",
              "    </tr>\n",
              "    <tr>\n",
              "      <th>75%</th>\n",
              "      <td>668.500000</td>\n",
              "      <td>1.000000</td>\n",
              "      <td>3.000000</td>\n",
              "      <td>38.000000</td>\n",
              "      <td>1.000000</td>\n",
              "      <td>0.000000</td>\n",
              "      <td>31.000000</td>\n",
              "    </tr>\n",
              "    <tr>\n",
              "      <th>max</th>\n",
              "      <td>891.000000</td>\n",
              "      <td>1.000000</td>\n",
              "      <td>3.000000</td>\n",
              "      <td>80.000000</td>\n",
              "      <td>8.000000</td>\n",
              "      <td>6.000000</td>\n",
              "      <td>512.329200</td>\n",
              "    </tr>\n",
              "  </tbody>\n",
              "</table>\n",
              "</div>\n",
              "      <button class=\"colab-df-convert\" onclick=\"convertToInteractive('df-6a2e0a0a-cd41-4ca4-958f-1f7811509da5')\"\n",
              "              title=\"Convert this dataframe to an interactive table.\"\n",
              "              style=\"display:none;\">\n",
              "        \n",
              "  <svg xmlns=\"http://www.w3.org/2000/svg\" height=\"24px\"viewBox=\"0 0 24 24\"\n",
              "       width=\"24px\">\n",
              "    <path d=\"M0 0h24v24H0V0z\" fill=\"none\"/>\n",
              "    <path d=\"M18.56 5.44l.94 2.06.94-2.06 2.06-.94-2.06-.94-.94-2.06-.94 2.06-2.06.94zm-11 1L8.5 8.5l.94-2.06 2.06-.94-2.06-.94L8.5 2.5l-.94 2.06-2.06.94zm10 10l.94 2.06.94-2.06 2.06-.94-2.06-.94-.94-2.06-.94 2.06-2.06.94z\"/><path d=\"M17.41 7.96l-1.37-1.37c-.4-.4-.92-.59-1.43-.59-.52 0-1.04.2-1.43.59L10.3 9.45l-7.72 7.72c-.78.78-.78 2.05 0 2.83L4 21.41c.39.39.9.59 1.41.59.51 0 1.02-.2 1.41-.59l7.78-7.78 2.81-2.81c.8-.78.8-2.07 0-2.86zM5.41 20L4 18.59l7.72-7.72 1.47 1.35L5.41 20z\"/>\n",
              "  </svg>\n",
              "      </button>\n",
              "      \n",
              "  <style>\n",
              "    .colab-df-container {\n",
              "      display:flex;\n",
              "      flex-wrap:wrap;\n",
              "      gap: 12px;\n",
              "    }\n",
              "\n",
              "    .colab-df-convert {\n",
              "      background-color: #E8F0FE;\n",
              "      border: none;\n",
              "      border-radius: 50%;\n",
              "      cursor: pointer;\n",
              "      display: none;\n",
              "      fill: #1967D2;\n",
              "      height: 32px;\n",
              "      padding: 0 0 0 0;\n",
              "      width: 32px;\n",
              "    }\n",
              "\n",
              "    .colab-df-convert:hover {\n",
              "      background-color: #E2EBFA;\n",
              "      box-shadow: 0px 1px 2px rgba(60, 64, 67, 0.3), 0px 1px 3px 1px rgba(60, 64, 67, 0.15);\n",
              "      fill: #174EA6;\n",
              "    }\n",
              "\n",
              "    [theme=dark] .colab-df-convert {\n",
              "      background-color: #3B4455;\n",
              "      fill: #D2E3FC;\n",
              "    }\n",
              "\n",
              "    [theme=dark] .colab-df-convert:hover {\n",
              "      background-color: #434B5C;\n",
              "      box-shadow: 0px 1px 3px 1px rgba(0, 0, 0, 0.15);\n",
              "      filter: drop-shadow(0px 1px 2px rgba(0, 0, 0, 0.3));\n",
              "      fill: #FFFFFF;\n",
              "    }\n",
              "  </style>\n",
              "\n",
              "      <script>\n",
              "        const buttonEl =\n",
              "          document.querySelector('#df-6a2e0a0a-cd41-4ca4-958f-1f7811509da5 button.colab-df-convert');\n",
              "        buttonEl.style.display =\n",
              "          google.colab.kernel.accessAllowed ? 'block' : 'none';\n",
              "\n",
              "        async function convertToInteractive(key) {\n",
              "          const element = document.querySelector('#df-6a2e0a0a-cd41-4ca4-958f-1f7811509da5');\n",
              "          const dataTable =\n",
              "            await google.colab.kernel.invokeFunction('convertToInteractive',\n",
              "                                                     [key], {});\n",
              "          if (!dataTable) return;\n",
              "\n",
              "          const docLinkHtml = 'Like what you see? Visit the ' +\n",
              "            '<a target=\"_blank\" href=https://colab.research.google.com/notebooks/data_table.ipynb>data table notebook</a>'\n",
              "            + ' to learn more about interactive tables.';\n",
              "          element.innerHTML = '';\n",
              "          dataTable['output_type'] = 'display_data';\n",
              "          await google.colab.output.renderOutput(dataTable, element);\n",
              "          const docLink = document.createElement('div');\n",
              "          docLink.innerHTML = docLinkHtml;\n",
              "          element.appendChild(docLink);\n",
              "        }\n",
              "      </script>\n",
              "    </div>\n",
              "  </div>\n",
              "  "
            ]
          },
          "metadata": {},
          "execution_count": 7
        }
      ]
    },
    {
      "cell_type": "code",
      "source": [
        "#Como se comparan las variables categoricas\n",
        "train.describe(include=['O'])"
      ],
      "metadata": {
        "colab": {
          "base_uri": "https://localhost:8080/",
          "height": 175
        },
        "id": "DFWMSS1GG6G3",
        "outputId": "57e24c1c-5e7e-4182-94b2-ce6322f8db83"
      },
      "execution_count": 8,
      "outputs": [
        {
          "output_type": "execute_result",
          "data": {
            "text/plain": [
              "                           Name   Sex  Ticket    Cabin Embarked\n",
              "count                       891   891     891      204      889\n",
              "unique                      891     2     681      147        3\n",
              "top     Braund, Mr. Owen Harris  male  347082  B96 B98        S\n",
              "freq                          1   577       7        4      644"
            ],
            "text/html": [
              "\n",
              "  <div id=\"df-ecee2ca4-a6db-41ba-a2ad-074b00cf5b28\">\n",
              "    <div class=\"colab-df-container\">\n",
              "      <div>\n",
              "<style scoped>\n",
              "    .dataframe tbody tr th:only-of-type {\n",
              "        vertical-align: middle;\n",
              "    }\n",
              "\n",
              "    .dataframe tbody tr th {\n",
              "        vertical-align: top;\n",
              "    }\n",
              "\n",
              "    .dataframe thead th {\n",
              "        text-align: right;\n",
              "    }\n",
              "</style>\n",
              "<table border=\"1\" class=\"dataframe\">\n",
              "  <thead>\n",
              "    <tr style=\"text-align: right;\">\n",
              "      <th></th>\n",
              "      <th>Name</th>\n",
              "      <th>Sex</th>\n",
              "      <th>Ticket</th>\n",
              "      <th>Cabin</th>\n",
              "      <th>Embarked</th>\n",
              "    </tr>\n",
              "  </thead>\n",
              "  <tbody>\n",
              "    <tr>\n",
              "      <th>count</th>\n",
              "      <td>891</td>\n",
              "      <td>891</td>\n",
              "      <td>891</td>\n",
              "      <td>204</td>\n",
              "      <td>889</td>\n",
              "    </tr>\n",
              "    <tr>\n",
              "      <th>unique</th>\n",
              "      <td>891</td>\n",
              "      <td>2</td>\n",
              "      <td>681</td>\n",
              "      <td>147</td>\n",
              "      <td>3</td>\n",
              "    </tr>\n",
              "    <tr>\n",
              "      <th>top</th>\n",
              "      <td>Braund, Mr. Owen Harris</td>\n",
              "      <td>male</td>\n",
              "      <td>347082</td>\n",
              "      <td>B96 B98</td>\n",
              "      <td>S</td>\n",
              "    </tr>\n",
              "    <tr>\n",
              "      <th>freq</th>\n",
              "      <td>1</td>\n",
              "      <td>577</td>\n",
              "      <td>7</td>\n",
              "      <td>4</td>\n",
              "      <td>644</td>\n",
              "    </tr>\n",
              "  </tbody>\n",
              "</table>\n",
              "</div>\n",
              "      <button class=\"colab-df-convert\" onclick=\"convertToInteractive('df-ecee2ca4-a6db-41ba-a2ad-074b00cf5b28')\"\n",
              "              title=\"Convert this dataframe to an interactive table.\"\n",
              "              style=\"display:none;\">\n",
              "        \n",
              "  <svg xmlns=\"http://www.w3.org/2000/svg\" height=\"24px\"viewBox=\"0 0 24 24\"\n",
              "       width=\"24px\">\n",
              "    <path d=\"M0 0h24v24H0V0z\" fill=\"none\"/>\n",
              "    <path d=\"M18.56 5.44l.94 2.06.94-2.06 2.06-.94-2.06-.94-.94-2.06-.94 2.06-2.06.94zm-11 1L8.5 8.5l.94-2.06 2.06-.94-2.06-.94L8.5 2.5l-.94 2.06-2.06.94zm10 10l.94 2.06.94-2.06 2.06-.94-2.06-.94-.94-2.06-.94 2.06-2.06.94z\"/><path d=\"M17.41 7.96l-1.37-1.37c-.4-.4-.92-.59-1.43-.59-.52 0-1.04.2-1.43.59L10.3 9.45l-7.72 7.72c-.78.78-.78 2.05 0 2.83L4 21.41c.39.39.9.59 1.41.59.51 0 1.02-.2 1.41-.59l7.78-7.78 2.81-2.81c.8-.78.8-2.07 0-2.86zM5.41 20L4 18.59l7.72-7.72 1.47 1.35L5.41 20z\"/>\n",
              "  </svg>\n",
              "      </button>\n",
              "      \n",
              "  <style>\n",
              "    .colab-df-container {\n",
              "      display:flex;\n",
              "      flex-wrap:wrap;\n",
              "      gap: 12px;\n",
              "    }\n",
              "\n",
              "    .colab-df-convert {\n",
              "      background-color: #E8F0FE;\n",
              "      border: none;\n",
              "      border-radius: 50%;\n",
              "      cursor: pointer;\n",
              "      display: none;\n",
              "      fill: #1967D2;\n",
              "      height: 32px;\n",
              "      padding: 0 0 0 0;\n",
              "      width: 32px;\n",
              "    }\n",
              "\n",
              "    .colab-df-convert:hover {\n",
              "      background-color: #E2EBFA;\n",
              "      box-shadow: 0px 1px 2px rgba(60, 64, 67, 0.3), 0px 1px 3px 1px rgba(60, 64, 67, 0.15);\n",
              "      fill: #174EA6;\n",
              "    }\n",
              "\n",
              "    [theme=dark] .colab-df-convert {\n",
              "      background-color: #3B4455;\n",
              "      fill: #D2E3FC;\n",
              "    }\n",
              "\n",
              "    [theme=dark] .colab-df-convert:hover {\n",
              "      background-color: #434B5C;\n",
              "      box-shadow: 0px 1px 3px 1px rgba(0, 0, 0, 0.15);\n",
              "      filter: drop-shadow(0px 1px 2px rgba(0, 0, 0, 0.3));\n",
              "      fill: #FFFFFF;\n",
              "    }\n",
              "  </style>\n",
              "\n",
              "      <script>\n",
              "        const buttonEl =\n",
              "          document.querySelector('#df-ecee2ca4-a6db-41ba-a2ad-074b00cf5b28 button.colab-df-convert');\n",
              "        buttonEl.style.display =\n",
              "          google.colab.kernel.accessAllowed ? 'block' : 'none';\n",
              "\n",
              "        async function convertToInteractive(key) {\n",
              "          const element = document.querySelector('#df-ecee2ca4-a6db-41ba-a2ad-074b00cf5b28');\n",
              "          const dataTable =\n",
              "            await google.colab.kernel.invokeFunction('convertToInteractive',\n",
              "                                                     [key], {});\n",
              "          if (!dataTable) return;\n",
              "\n",
              "          const docLinkHtml = 'Like what you see? Visit the ' +\n",
              "            '<a target=\"_blank\" href=https://colab.research.google.com/notebooks/data_table.ipynb>data table notebook</a>'\n",
              "            + ' to learn more about interactive tables.';\n",
              "          element.innerHTML = '';\n",
              "          dataTable['output_type'] = 'display_data';\n",
              "          await google.colab.output.renderOutput(dataTable, element);\n",
              "          const docLink = document.createElement('div');\n",
              "          docLink.innerHTML = docLinkHtml;\n",
              "          element.appendChild(docLink);\n",
              "        }\n",
              "      </script>\n",
              "    </div>\n",
              "  </div>\n",
              "  "
            ]
          },
          "metadata": {},
          "execution_count": 8
        }
      ]
    },
    {
      "cell_type": "markdown",
      "source": [
        "# 2.1 EDA: Estudio de variable target"
      ],
      "metadata": {
        "id": "-BsAzqFdIyFv"
      }
    },
    {
      "cell_type": "code",
      "source": [
        "train.groupby(['Survived']).count()['PassengerId']"
      ],
      "metadata": {
        "colab": {
          "base_uri": "https://localhost:8080/"
        },
        "id": "SUKE4ocfIz5y",
        "outputId": "2bc73f29-3a48-401c-ee2d-1917b5bac00b"
      },
      "execution_count": 9,
      "outputs": [
        {
          "output_type": "execute_result",
          "data": {
            "text/plain": [
              "Survived\n",
              "0    549\n",
              "1    342\n",
              "Name: PassengerId, dtype: int64"
            ]
          },
          "metadata": {},
          "execution_count": 9
        }
      ]
    },
    {
      "cell_type": "code",
      "source": [
        "train.groupby(['Survived', 'Sex']).count()['PassengerId']"
      ],
      "metadata": {
        "colab": {
          "base_uri": "https://localhost:8080/"
        },
        "id": "-faIGqEXJTat",
        "outputId": "7ec69aa8-34c4-40fd-88e0-2ab3173dad83"
      },
      "execution_count": 10,
      "outputs": [
        {
          "output_type": "execute_result",
          "data": {
            "text/plain": [
              "Survived  Sex   \n",
              "0         female     81\n",
              "          male      468\n",
              "1         female    233\n",
              "          male      109\n",
              "Name: PassengerId, dtype: int64"
            ]
          },
          "metadata": {},
          "execution_count": 10
        }
      ]
    },
    {
      "cell_type": "code",
      "source": [
        "groupby_sex = train.groupby(['Survived', 'Sex']).count()['PassengerId']\n",
        "(groupby_sex.unstack(level=0).plot.bar())\n",
        "plt.show()"
      ],
      "metadata": {
        "colab": {
          "base_uri": "https://localhost:8080/",
          "height": 304
        },
        "id": "M8mRC8IfJlvP",
        "outputId": "3aef2ff7-8873-4564-c84e-94211b8bcab3"
      },
      "execution_count": 11,
      "outputs": [
        {
          "output_type": "display_data",
          "data": {
            "text/plain": [
              "<Figure size 432x288 with 1 Axes>"
            ],
            "image/png": "[encoded data removed]"
          },
          "metadata": {
            "needs_background": "light"
          }
        }
      ]
    },
    {
      "cell_type": "code",
      "source": [
        "print(train.groupby(['Pclass', 'Embarked'])\n",
        "                    .count()['PassengerId']\n",
        "                    .unstack(level=0)\n",
        "                    .plot.bar())"
      ],
      "metadata": {
        "colab": {
          "base_uri": "https://localhost:8080/",
          "height": 294
        },
        "id": "l6IgOl93Kgns",
        "outputId": "bb149c7c-5f53-4b9b-86b9-4ca67792f454"
      },
      "execution_count": 12,
      "outputs": [
        {
          "output_type": "stream",
          "name": "stdout",
          "text": [
            "AxesSubplot(0.125,0.125;0.775x0.755)\n"
          ]
        },
        {
          "output_type": "display_data",
          "data": {
            "text/plain": [
              "<Figure size 432x288 with 1 Axes>"
            ],
            "image/png": "[encoded data removed]"
          },
          "metadata": {
            "needs_background": "light"
          }
        }
      ]
    },
    {
      "cell_type": "markdown",
      "source": [
        "# 3. Procesamiento de Datos"
      ],
      "metadata": {
        "id": "Vq4lsnlgLtbK"
      }
    },
    {
      "cell_type": "markdown",
      "source": [
        "Variables con las que se trabajaran\n",
        "\n",
        "\n",
        "*   Survived\n",
        "*   Sex\n",
        "*   Age\n",
        "*   Pclass\n",
        "\n"
      ],
      "metadata": {
        "id": "HXVNgsG5L08t"
      }
    },
    {
      "cell_type": "code",
      "source": [
        "train[['Survived', 'Sex', 'Age', 'Pclass']].head()"
      ],
      "metadata": {
        "colab": {
          "base_uri": "https://localhost:8080/",
          "height": 206
        },
        "id": "n0oXw9iXLseH",
        "outputId": "aa53a458-fd17-4797-fb88-7f53324a256d"
      },
      "execution_count": 13,
      "outputs": [
        {
          "output_type": "execute_result",
          "data": {
            "text/plain": [
              "   Survived     Sex   Age  Pclass\n",
              "0         0    male  22.0       3\n",
              "1         1  female  38.0       1\n",
              "2         1  female  26.0       3\n",
              "3         1  female  35.0       1\n",
              "4         0    male  35.0       3"
            ],
            "text/html": [
              "\n",
              "  <div id=\"df-e1a16c16-0d4b-4cbe-beb7-1a4c21c69f98\">\n",
              "    <div class=\"colab-df-container\">\n",
              "      <div>\n",
              "<style scoped>\n",
              "    .dataframe tbody tr th:only-of-type {\n",
              "        vertical-align: middle;\n",
              "    }\n",
              "\n",
              "    .dataframe tbody tr th {\n",
              "        vertical-align: top;\n",
              "    }\n",
              "\n",
              "    .dataframe thead th {\n",
              "        text-align: right;\n",
              "    }\n",
              "</style>\n",
              "<table border=\"1\" class=\"dataframe\">\n",
              "  <thead>\n",
              "    <tr style=\"text-align: right;\">\n",
              "      <th></th>\n",
              "      <th>Survived</th>\n",
              "      <th>Sex</th>\n",
              "      <th>Age</th>\n",
              "      <th>Pclass</th>\n",
              "    </tr>\n",
              "  </thead>\n",
              "  <tbody>\n",
              "    <tr>\n",
              "      <th>0</th>\n",
              "      <td>0</td>\n",
              "      <td>male</td>\n",
              "      <td>22.0</td>\n",
              "      <td>3</td>\n",
              "    </tr>\n",
              "    <tr>\n",
              "      <th>1</th>\n",
              "      <td>1</td>\n",
              "      <td>female</td>\n",
              "      <td>38.0</td>\n",
              "      <td>1</td>\n",
              "    </tr>\n",
              "    <tr>\n",
              "      <th>2</th>\n",
              "      <td>1</td>\n",
              "      <td>female</td>\n",
              "      <td>26.0</td>\n",
              "      <td>3</td>\n",
              "    </tr>\n",
              "    <tr>\n",
              "      <th>3</th>\n",
              "      <td>1</td>\n",
              "      <td>female</td>\n",
              "      <td>35.0</td>\n",
              "      <td>1</td>\n",
              "    </tr>\n",
              "    <tr>\n",
              "      <th>4</th>\n",
              "      <td>0</td>\n",
              "      <td>male</td>\n",
              "      <td>35.0</td>\n",
              "      <td>3</td>\n",
              "    </tr>\n",
              "  </tbody>\n",
              "</table>\n",
              "</div>\n",
              "      <button class=\"colab-df-convert\" onclick=\"convertToInteractive('df-e1a16c16-0d4b-4cbe-beb7-1a4c21c69f98')\"\n",
              "              title=\"Convert this dataframe to an interactive table.\"\n",
              "              style=\"display:none;\">\n",
              "        \n",
              "  <svg xmlns=\"http://www.w3.org/2000/svg\" height=\"24px\"viewBox=\"0 0 24 24\"\n",
              "       width=\"24px\">\n",
              "    <path d=\"M0 0h24v24H0V0z\" fill=\"none\"/>\n",
              "    <path d=\"M18.56 5.44l.94 2.06.94-2.06 2.06-.94-2.06-.94-.94-2.06-.94 2.06-2.06.94zm-11 1L8.5 8.5l.94-2.06 2.06-.94-2.06-.94L8.5 2.5l-.94 2.06-2.06.94zm10 10l.94 2.06.94-2.06 2.06-.94-2.06-.94-.94-2.06-.94 2.06-2.06.94z\"/><path d=\"M17.41 7.96l-1.37-1.37c-.4-.4-.92-.59-1.43-.59-.52 0-1.04.2-1.43.59L10.3 9.45l-7.72 7.72c-.78.78-.78 2.05 0 2.83L4 21.41c.39.39.9.59 1.41.59.51 0 1.02-.2 1.41-.59l7.78-7.78 2.81-2.81c.8-.78.8-2.07 0-2.86zM5.41 20L4 18.59l7.72-7.72 1.47 1.35L5.41 20z\"/>\n",
              "  </svg>\n",
              "      </button>\n",
              "      \n",
              "  <style>\n",
              "    .colab-df-container {\n",
              "      display:flex;\n",
              "      flex-wrap:wrap;\n",
              "      gap: 12px;\n",
              "    }\n",
              "\n",
              "    .colab-df-convert {\n",
              "      background-color: #E8F0FE;\n",
              "      border: none;\n",
              "      border-radius: 50%;\n",
              "      cursor: pointer;\n",
              "      display: none;\n",
              "      fill: #1967D2;\n",
              "      height: 32px;\n",
              "      padding: 0 0 0 0;\n",
              "      width: 32px;\n",
              "    }\n",
              "\n",
              "    .colab-df-convert:hover {\n",
              "      background-color: #E2EBFA;\n",
              "      box-shadow: 0px 1px 2px rgba(60, 64, 67, 0.3), 0px 1px 3px 1px rgba(60, 64, 67, 0.15);\n",
              "      fill: #174EA6;\n",
              "    }\n",
              "\n",
              "    [theme=dark] .colab-df-convert {\n",
              "      background-color: #3B4455;\n",
              "      fill: #D2E3FC;\n",
              "    }\n",
              "\n",
              "    [theme=dark] .colab-df-convert:hover {\n",
              "      background-color: #434B5C;\n",
              "      box-shadow: 0px 1px 3px 1px rgba(0, 0, 0, 0.15);\n",
              "      filter: drop-shadow(0px 1px 2px rgba(0, 0, 0, 0.3));\n",
              "      fill: #FFFFFF;\n",
              "    }\n",
              "  </style>\n",
              "\n",
              "      <script>\n",
              "        const buttonEl =\n",
              "          document.querySelector('#df-e1a16c16-0d4b-4cbe-beb7-1a4c21c69f98 button.colab-df-convert');\n",
              "        buttonEl.style.display =\n",
              "          google.colab.kernel.accessAllowed ? 'block' : 'none';\n",
              "\n",
              "        async function convertToInteractive(key) {\n",
              "          const element = document.querySelector('#df-e1a16c16-0d4b-4cbe-beb7-1a4c21c69f98');\n",
              "          const dataTable =\n",
              "            await google.colab.kernel.invokeFunction('convertToInteractive',\n",
              "                                                     [key], {});\n",
              "          if (!dataTable) return;\n",
              "\n",
              "          const docLinkHtml = 'Like what you see? Visit the ' +\n",
              "            '<a target=\"_blank\" href=https://colab.research.google.com/notebooks/data_table.ipynb>data table notebook</a>'\n",
              "            + ' to learn more about interactive tables.';\n",
              "          element.innerHTML = '';\n",
              "          dataTable['output_type'] = 'display_data';\n",
              "          await google.colab.output.renderOutput(dataTable, element);\n",
              "          const docLink = document.createElement('div');\n",
              "          docLink.innerHTML = docLinkHtml;\n",
              "          element.appendChild(docLink);\n",
              "        }\n",
              "      </script>\n",
              "    </div>\n",
              "  </div>\n",
              "  "
            ]
          },
          "metadata": {},
          "execution_count": 13
        }
      ]
    },
    {
      "cell_type": "code",
      "source": [
        "train[['Survived', 'Sex', 'Age', 'Pclass']].info()"
      ],
      "metadata": {
        "colab": {
          "base_uri": "https://localhost:8080/"
        },
        "id": "NFGsKonaMfj6",
        "outputId": "618b9661-6c24-487b-8471-2c830d1396b3"
      },
      "execution_count": 14,
      "outputs": [
        {
          "output_type": "stream",
          "name": "stdout",
          "text": [
            "<class 'pandas.core.frame.DataFrame'>\n",
            "RangeIndex: 891 entries, 0 to 890\n",
            "Data columns (total 4 columns):\n",
            " #   Column    Non-Null Count  Dtype  \n",
            "---  ------    --------------  -----  \n",
            " 0   Survived  891 non-null    int64  \n",
            " 1   Sex       891 non-null    object \n",
            " 2   Age       714 non-null    float64\n",
            " 3   Pclass    891 non-null    int64  \n",
            "dtypes: float64(1), int64(2), object(1)\n",
            "memory usage: 28.0+ KB\n"
          ]
        }
      ]
    },
    {
      "cell_type": "code",
      "source": [
        "#Como se distribuyen los datos nulos en edad segun la clase social y el sexo\n",
        "(train[train['Age'].isna()]\n",
        "      .groupby(['Sex', 'Pclass'])\n",
        "      .count()['PassengerId']\n",
        "      .unstack(level=0))"
      ],
      "metadata": {
        "colab": {
          "base_uri": "https://localhost:8080/",
          "height": 175
        },
        "id": "soH6UxouNDfI",
        "outputId": "0f221272-4341-4013-ea44-05a35329d489"
      },
      "execution_count": 15,
      "outputs": [
        {
          "output_type": "execute_result",
          "data": {
            "text/plain": [
              "Sex     female  male\n",
              "Pclass              \n",
              "1            9    21\n",
              "2            2     9\n",
              "3           42    94"
            ],
            "text/html": [
              "\n",
              "  <div id=\"df-071b4b41-8e39-4c25-9098-c3595c73b193\">\n",
              "    <div class=\"colab-df-container\">\n",
              "      <div>\n",
              "<style scoped>\n",
              "    .dataframe tbody tr th:only-of-type {\n",
              "        vertical-align: middle;\n",
              "    }\n",
              "\n",
              "    .dataframe tbody tr th {\n",
              "        vertical-align: top;\n",
              "    }\n",
              "\n",
              "    .dataframe thead th {\n",
              "        text-align: right;\n",
              "    }\n",
              "</style>\n",
              "<table border=\"1\" class=\"dataframe\">\n",
              "  <thead>\n",
              "    <tr style=\"text-align: right;\">\n",
              "      <th>Sex</th>\n",
              "      <th>female</th>\n",
              "      <th>male</th>\n",
              "    </tr>\n",
              "    <tr>\n",
              "      <th>Pclass</th>\n",
              "      <th></th>\n",
              "      <th></th>\n",
              "    </tr>\n",
              "  </thead>\n",
              "  <tbody>\n",
              "    <tr>\n",
              "      <th>1</th>\n",
              "      <td>9</td>\n",
              "      <td>21</td>\n",
              "    </tr>\n",
              "    <tr>\n",
              "      <th>2</th>\n",
              "      <td>2</td>\n",
              "      <td>9</td>\n",
              "    </tr>\n",
              "    <tr>\n",
              "      <th>3</th>\n",
              "      <td>42</td>\n",
              "      <td>94</td>\n",
              "    </tr>\n",
              "  </tbody>\n",
              "</table>\n",
              "</div>\n",
              "      <button class=\"colab-df-convert\" onclick=\"convertToInteractive('df-071b4b41-8e39-4c25-9098-c3595c73b193')\"\n",
              "              title=\"Convert this dataframe to an interactive table.\"\n",
              "              style=\"display:none;\">\n",
              "        \n",
              "  <svg xmlns=\"http://www.w3.org/2000/svg\" height=\"24px\"viewBox=\"0 0 24 24\"\n",
              "       width=\"24px\">\n",
              "    <path d=\"M0 0h24v24H0V0z\" fill=\"none\"/>\n",
              "    <path d=\"M18.56 5.44l.94 2.06.94-2.06 2.06-.94-2.06-.94-.94-2.06-.94 2.06-2.06.94zm-11 1L8.5 8.5l.94-2.06 2.06-.94-2.06-.94L8.5 2.5l-.94 2.06-2.06.94zm10 10l.94 2.06.94-2.06 2.06-.94-2.06-.94-.94-2.06-.94 2.06-2.06.94z\"/><path d=\"M17.41 7.96l-1.37-1.37c-.4-.4-.92-.59-1.43-.59-.52 0-1.04.2-1.43.59L10.3 9.45l-7.72 7.72c-.78.78-.78 2.05 0 2.83L4 21.41c.39.39.9.59 1.41.59.51 0 1.02-.2 1.41-.59l7.78-7.78 2.81-2.81c.8-.78.8-2.07 0-2.86zM5.41 20L4 18.59l7.72-7.72 1.47 1.35L5.41 20z\"/>\n",
              "  </svg>\n",
              "      </button>\n",
              "      \n",
              "  <style>\n",
              "    .colab-df-container {\n",
              "      display:flex;\n",
              "      flex-wrap:wrap;\n",
              "      gap: 12px;\n",
              "    }\n",
              "\n",
              "    .colab-df-convert {\n",
              "      background-color: #E8F0FE;\n",
              "      border: none;\n",
              "      border-radius: 50%;\n",
              "      cursor: pointer;\n",
              "      display: none;\n",
              "      fill: #1967D2;\n",
              "      height: 32px;\n",
              "      padding: 0 0 0 0;\n",
              "      width: 32px;\n",
              "    }\n",
              "\n",
              "    .colab-df-convert:hover {\n",
              "      background-color: #E2EBFA;\n",
              "      box-shadow: 0px 1px 2px rgba(60, 64, 67, 0.3), 0px 1px 3px 1px rgba(60, 64, 67, 0.15);\n",
              "      fill: #174EA6;\n",
              "    }\n",
              "\n",
              "    [theme=dark] .colab-df-convert {\n",
              "      background-color: #3B4455;\n",
              "      fill: #D2E3FC;\n",
              "    }\n",
              "\n",
              "    [theme=dark] .colab-df-convert:hover {\n",
              "      background-color: #434B5C;\n",
              "      box-shadow: 0px 1px 3px 1px rgba(0, 0, 0, 0.15);\n",
              "      filter: drop-shadow(0px 1px 2px rgba(0, 0, 0, 0.3));\n",
              "      fill: #FFFFFF;\n",
              "    }\n",
              "  </style>\n",
              "\n",
              "      <script>\n",
              "        const buttonEl =\n",
              "          document.querySelector('#df-071b4b41-8e39-4c25-9098-c3595c73b193 button.colab-df-convert');\n",
              "        buttonEl.style.display =\n",
              "          google.colab.kernel.accessAllowed ? 'block' : 'none';\n",
              "\n",
              "        async function convertToInteractive(key) {\n",
              "          const element = document.querySelector('#df-071b4b41-8e39-4c25-9098-c3595c73b193');\n",
              "          const dataTable =\n",
              "            await google.colab.kernel.invokeFunction('convertToInteractive',\n",
              "                                                     [key], {});\n",
              "          if (!dataTable) return;\n",
              "\n",
              "          const docLinkHtml = 'Like what you see? Visit the ' +\n",
              "            '<a target=\"_blank\" href=https://colab.research.google.com/notebooks/data_table.ipynb>data table notebook</a>'\n",
              "            + ' to learn more about interactive tables.';\n",
              "          element.innerHTML = '';\n",
              "          dataTable['output_type'] = 'display_data';\n",
              "          await google.colab.output.renderOutput(dataTable, element);\n",
              "          const docLink = document.createElement('div');\n",
              "          docLink.innerHTML = docLinkHtml;\n",
              "          element.appendChild(docLink);\n",
              "        }\n",
              "      </script>\n",
              "    </div>\n",
              "  </div>\n",
              "  "
            ]
          },
          "metadata": {},
          "execution_count": 15
        }
      ]
    },
    {
      "cell_type": "code",
      "source": [
        "(train[train['Age'].isna()]\n",
        "      .groupby(['SibSp', 'Parch'])\n",
        "      .count()['PassengerId']\n",
        "      .unstack(level=0))"
      ],
      "metadata": {
        "colab": {
          "base_uri": "https://localhost:8080/",
          "height": 175
        },
        "id": "eyO4OKGpTvGI",
        "outputId": "d05da7f1-0e40-40a2-db25-b9cb0a6b7e21"
      },
      "execution_count": 16,
      "outputs": [
        {
          "output_type": "execute_result",
          "data": {
            "text/plain": [
              "SibSp      0     1    2    3    8\n",
              "Parch                            \n",
              "0      133.0  21.0  3.0  NaN  NaN\n",
              "1        1.0   3.0  NaN  4.0  NaN\n",
              "2        3.0   2.0  NaN  NaN  7.0"
            ],
            "text/html": [
              "\n",
              "  <div id=\"df-da605f5b-0749-4fd5-b6ae-977f760467db\">\n",
              "    <div class=\"colab-df-container\">\n",
              "      <div>\n",
              "<style scoped>\n",
              "    .dataframe tbody tr th:only-of-type {\n",
              "        vertical-align: middle;\n",
              "    }\n",
              "\n",
              "    .dataframe tbody tr th {\n",
              "        vertical-align: top;\n",
              "    }\n",
              "\n",
              "    .dataframe thead th {\n",
              "        text-align: right;\n",
              "    }\n",
              "</style>\n",
              "<table border=\"1\" class=\"dataframe\">\n",
              "  <thead>\n",
              "    <tr style=\"text-align: right;\">\n",
              "      <th>SibSp</th>\n",
              "      <th>0</th>\n",
              "      <th>1</th>\n",
              "      <th>2</th>\n",
              "      <th>3</th>\n",
              "      <th>8</th>\n",
              "    </tr>\n",
              "    <tr>\n",
              "      <th>Parch</th>\n",
              "      <th></th>\n",
              "      <th></th>\n",
              "      <th></th>\n",
              "      <th></th>\n",
              "      <th></th>\n",
              "    </tr>\n",
              "  </thead>\n",
              "  <tbody>\n",
              "    <tr>\n",
              "      <th>0</th>\n",
              "      <td>133.0</td>\n",
              "      <td>21.0</td>\n",
              "      <td>3.0</td>\n",
              "      <td>NaN</td>\n",
              "      <td>NaN</td>\n",
              "    </tr>\n",
              "    <tr>\n",
              "      <th>1</th>\n",
              "      <td>1.0</td>\n",
              "      <td>3.0</td>\n",
              "      <td>NaN</td>\n",
              "      <td>4.0</td>\n",
              "      <td>NaN</td>\n",
              "    </tr>\n",
              "    <tr>\n",
              "      <th>2</th>\n",
              "      <td>3.0</td>\n",
              "      <td>2.0</td>\n",
              "      <td>NaN</td>\n",
              "      <td>NaN</td>\n",
              "      <td>7.0</td>\n",
              "    </tr>\n",
              "  </tbody>\n",
              "</table>\n",
              "</div>\n",
              "      <button class=\"colab-df-convert\" onclick=\"convertToInteractive('df-da605f5b-0749-4fd5-b6ae-977f760467db')\"\n",
              "              title=\"Convert this dataframe to an interactive table.\"\n",
              "              style=\"display:none;\">\n",
              "        \n",
              "  <svg xmlns=\"http://www.w3.org/2000/svg\" height=\"24px\"viewBox=\"0 0 24 24\"\n",
              "       width=\"24px\">\n",
              "    <path d=\"M0 0h24v24H0V0z\" fill=\"none\"/>\n",
              "    <path d=\"M18.56 5.44l.94 2.06.94-2.06 2.06-.94-2.06-.94-.94-2.06-.94 2.06-2.06.94zm-11 1L8.5 8.5l.94-2.06 2.06-.94-2.06-.94L8.5 2.5l-.94 2.06-2.06.94zm10 10l.94 2.06.94-2.06 2.06-.94-2.06-.94-.94-2.06-.94 2.06-2.06.94z\"/><path d=\"M17.41 7.96l-1.37-1.37c-.4-.4-.92-.59-1.43-.59-.52 0-1.04.2-1.43.59L10.3 9.45l-7.72 7.72c-.78.78-.78 2.05 0 2.83L4 21.41c.39.39.9.59 1.41.59.51 0 1.02-.2 1.41-.59l7.78-7.78 2.81-2.81c.8-.78.8-2.07 0-2.86zM5.41 20L4 18.59l7.72-7.72 1.47 1.35L5.41 20z\"/>\n",
              "  </svg>\n",
              "      </button>\n",
              "      \n",
              "  <style>\n",
              "    .colab-df-container {\n",
              "      display:flex;\n",
              "      flex-wrap:wrap;\n",
              "      gap: 12px;\n",
              "    }\n",
              "\n",
              "    .colab-df-convert {\n",
              "      background-color: #E8F0FE;\n",
              "      border: none;\n",
              "      border-radius: 50%;\n",
              "      cursor: pointer;\n",
              "      display: none;\n",
              "      fill: #1967D2;\n",
              "      height: 32px;\n",
              "      padding: 0 0 0 0;\n",
              "      width: 32px;\n",
              "    }\n",
              "\n",
              "    .colab-df-convert:hover {\n",
              "      background-color: #E2EBFA;\n",
              "      box-shadow: 0px 1px 2px rgba(60, 64, 67, 0.3), 0px 1px 3px 1px rgba(60, 64, 67, 0.15);\n",
              "      fill: #174EA6;\n",
              "    }\n",
              "\n",
              "    [theme=dark] .colab-df-convert {\n",
              "      background-color: #3B4455;\n",
              "      fill: #D2E3FC;\n",
              "    }\n",
              "\n",
              "    [theme=dark] .colab-df-convert:hover {\n",
              "      background-color: #434B5C;\n",
              "      box-shadow: 0px 1px 3px 1px rgba(0, 0, 0, 0.15);\n",
              "      filter: drop-shadow(0px 1px 2px rgba(0, 0, 0, 0.3));\n",
              "      fill: #FFFFFF;\n",
              "    }\n",
              "  </style>\n",
              "\n",
              "      <script>\n",
              "        const buttonEl =\n",
              "          document.querySelector('#df-da605f5b-0749-4fd5-b6ae-977f760467db button.colab-df-convert');\n",
              "        buttonEl.style.display =\n",
              "          google.colab.kernel.accessAllowed ? 'block' : 'none';\n",
              "\n",
              "        async function convertToInteractive(key) {\n",
              "          const element = document.querySelector('#df-da605f5b-0749-4fd5-b6ae-977f760467db');\n",
              "          const dataTable =\n",
              "            await google.colab.kernel.invokeFunction('convertToInteractive',\n",
              "                                                     [key], {});\n",
              "          if (!dataTable) return;\n",
              "\n",
              "          const docLinkHtml = 'Like what you see? Visit the ' +\n",
              "            '<a target=\"_blank\" href=https://colab.research.google.com/notebooks/data_table.ipynb>data table notebook</a>'\n",
              "            + ' to learn more about interactive tables.';\n",
              "          element.innerHTML = '';\n",
              "          dataTable['output_type'] = 'display_data';\n",
              "          await google.colab.output.renderOutput(dataTable, element);\n",
              "          const docLink = document.createElement('div');\n",
              "          docLink.innerHTML = docLinkHtml;\n",
              "          element.appendChild(docLink);\n",
              "        }\n",
              "      </script>\n",
              "    </div>\n",
              "  </div>\n",
              "  "
            ]
          },
          "metadata": {},
          "execution_count": 16
        }
      ]
    },
    {
      "cell_type": "markdown",
      "source": [
        "De lo anterior se puede concluir que era gente que viajaba mayormente sola y la mayoría eran de 3era clase."
      ],
      "metadata": {
        "id": "1d8E-rq2T7Bm"
      }
    },
    {
      "cell_type": "code",
      "source": [
        "#Calcular la edad media para imputar \n",
        "train['Age'].median()"
      ],
      "metadata": {
        "colab": {
          "base_uri": "https://localhost:8080/"
        },
        "id": "JXUTSXntT6E9",
        "outputId": "3fcf3fa6-d01a-491b-9fe1-b9fe83a77020"
      },
      "execution_count": 17,
      "outputs": [
        {
          "output_type": "execute_result",
          "data": {
            "text/plain": [
              "28.0"
            ]
          },
          "metadata": {},
          "execution_count": 17
        }
      ]
    },
    {
      "cell_type": "code",
      "source": [
        "#Imputar valor para rellenar nulos\n",
        "train['Age'] = train['Age'].fillna(28.0)\n",
        "train[['Survived', 'Sex', 'Age', 'Pclass']].info()"
      ],
      "metadata": {
        "colab": {
          "base_uri": "https://localhost:8080/"
        },
        "id": "FwKdExL_Wlez",
        "outputId": "effdcb7b-01dc-4c67-cde2-fe2d38f4273b"
      },
      "execution_count": 18,
      "outputs": [
        {
          "output_type": "stream",
          "name": "stdout",
          "text": [
            "<class 'pandas.core.frame.DataFrame'>\n",
            "RangeIndex: 891 entries, 0 to 890\n",
            "Data columns (total 4 columns):\n",
            " #   Column    Non-Null Count  Dtype  \n",
            "---  ------    --------------  -----  \n",
            " 0   Survived  891 non-null    int64  \n",
            " 1   Sex       891 non-null    object \n",
            " 2   Age       891 non-null    float64\n",
            " 3   Pclass    891 non-null    int64  \n",
            "dtypes: float64(1), int64(2), object(1)\n",
            "memory usage: 28.0+ KB\n"
          ]
        }
      ]
    },
    {
      "cell_type": "code",
      "source": [
        "#map para label encoding\n",
        "train['Sex'] = train['Sex'].map({'female': 1, 'male': 0}).astype(int)"
      ],
      "metadata": {
        "id": "5rJS1H90ZD1I"
      },
      "execution_count": 19,
      "outputs": []
    },
    {
      "cell_type": "code",
      "source": [
        "train[['Survived', 'Sex', 'Age', 'Pclass']].head()"
      ],
      "metadata": {
        "colab": {
          "base_uri": "https://localhost:8080/",
          "height": 206
        },
        "id": "00fTyAiKabgq",
        "outputId": "f3f7e934-955b-4bdd-dbbf-59eb4150ffed"
      },
      "execution_count": 33,
      "outputs": [
        {
          "output_type": "execute_result",
          "data": {
            "text/plain": [
              "   Survived  Sex   Age  Pclass\n",
              "0         0    0  22.0       3\n",
              "1         1    1  38.0       1\n",
              "2         1    1  26.0       3\n",
              "3         1    1  35.0       1\n",
              "4         0    0  35.0       3"
            ],
            "text/html": [
              "\n",
              "  <div id=\"df-523442f1-1a07-404c-ba6f-1ecb9d4027ef\">\n",
              "    <div class=\"colab-df-container\">\n",
              "      <div>\n",
              "<style scoped>\n",
              "    .dataframe tbody tr th:only-of-type {\n",
              "        vertical-align: middle;\n",
              "    }\n",
              "\n",
              "    .dataframe tbody tr th {\n",
              "        vertical-align: top;\n",
              "    }\n",
              "\n",
              "    .dataframe thead th {\n",
              "        text-align: right;\n",
              "    }\n",
              "</style>\n",
              "<table border=\"1\" class=\"dataframe\">\n",
              "  <thead>\n",
              "    <tr style=\"text-align: right;\">\n",
              "      <th></th>\n",
              "      <th>Survived</th>\n",
              "      <th>Sex</th>\n",
              "      <th>Age</th>\n",
              "      <th>Pclass</th>\n",
              "    </tr>\n",
              "  </thead>\n",
              "  <tbody>\n",
              "    <tr>\n",
              "      <th>0</th>\n",
              "      <td>0</td>\n",
              "      <td>0</td>\n",
              "      <td>22.0</td>\n",
              "      <td>3</td>\n",
              "    </tr>\n",
              "    <tr>\n",
              "      <th>1</th>\n",
              "      <td>1</td>\n",
              "      <td>1</td>\n",
              "      <td>38.0</td>\n",
              "      <td>1</td>\n",
              "    </tr>\n",
              "    <tr>\n",
              "      <th>2</th>\n",
              "      <td>1</td>\n",
              "      <td>1</td>\n",
              "      <td>26.0</td>\n",
              "      <td>3</td>\n",
              "    </tr>\n",
              "    <tr>\n",
              "      <th>3</th>\n",
              "      <td>1</td>\n",
              "      <td>1</td>\n",
              "      <td>35.0</td>\n",
              "      <td>1</td>\n",
              "    </tr>\n",
              "    <tr>\n",
              "      <th>4</th>\n",
              "      <td>0</td>\n",
              "      <td>0</td>\n",
              "      <td>35.0</td>\n",
              "      <td>3</td>\n",
              "    </tr>\n",
              "  </tbody>\n",
              "</table>\n",
              "</div>\n",
              "      <button class=\"colab-df-convert\" onclick=\"convertToInteractive('df-523442f1-1a07-404c-ba6f-1ecb9d4027ef')\"\n",
              "              title=\"Convert this dataframe to an interactive table.\"\n",
              "              style=\"display:none;\">\n",
              "        \n",
              "  <svg xmlns=\"http://www.w3.org/2000/svg\" height=\"24px\"viewBox=\"0 0 24 24\"\n",
              "       width=\"24px\">\n",
              "    <path d=\"M0 0h24v24H0V0z\" fill=\"none\"/>\n",
              "    <path d=\"M18.56 5.44l.94 2.06.94-2.06 2.06-.94-2.06-.94-.94-2.06-.94 2.06-2.06.94zm-11 1L8.5 8.5l.94-2.06 2.06-.94-2.06-.94L8.5 2.5l-.94 2.06-2.06.94zm10 10l.94 2.06.94-2.06 2.06-.94-2.06-.94-.94-2.06-.94 2.06-2.06.94z\"/><path d=\"M17.41 7.96l-1.37-1.37c-.4-.4-.92-.59-1.43-.59-.52 0-1.04.2-1.43.59L10.3 9.45l-7.72 7.72c-.78.78-.78 2.05 0 2.83L4 21.41c.39.39.9.59 1.41.59.51 0 1.02-.2 1.41-.59l7.78-7.78 2.81-2.81c.8-.78.8-2.07 0-2.86zM5.41 20L4 18.59l7.72-7.72 1.47 1.35L5.41 20z\"/>\n",
              "  </svg>\n",
              "      </button>\n",
              "      \n",
              "  <style>\n",
              "    .colab-df-container {\n",
              "      display:flex;\n",
              "      flex-wrap:wrap;\n",
              "      gap: 12px;\n",
              "    }\n",
              "\n",
              "    .colab-df-convert {\n",
              "      background-color: #E8F0FE;\n",
              "      border: none;\n",
              "      border-radius: 50%;\n",
              "      cursor: pointer;\n",
              "      display: none;\n",
              "      fill: #1967D2;\n",
              "      height: 32px;\n",
              "      padding: 0 0 0 0;\n",
              "      width: 32px;\n",
              "    }\n",
              "\n",
              "    .colab-df-convert:hover {\n",
              "      background-color: #E2EBFA;\n",
              "      box-shadow: 0px 1px 2px rgba(60, 64, 67, 0.3), 0px 1px 3px 1px rgba(60, 64, 67, 0.15);\n",
              "      fill: #174EA6;\n",
              "    }\n",
              "\n",
              "    [theme=dark] .colab-df-convert {\n",
              "      background-color: #3B4455;\n",
              "      fill: #D2E3FC;\n",
              "    }\n",
              "\n",
              "    [theme=dark] .colab-df-convert:hover {\n",
              "      background-color: #434B5C;\n",
              "      box-shadow: 0px 1px 3px 1px rgba(0, 0, 0, 0.15);\n",
              "      filter: drop-shadow(0px 1px 2px rgba(0, 0, 0, 0.3));\n",
              "      fill: #FFFFFF;\n",
              "    }\n",
              "  </style>\n",
              "\n",
              "      <script>\n",
              "        const buttonEl =\n",
              "          document.querySelector('#df-523442f1-1a07-404c-ba6f-1ecb9d4027ef button.colab-df-convert');\n",
              "        buttonEl.style.display =\n",
              "          google.colab.kernel.accessAllowed ? 'block' : 'none';\n",
              "\n",
              "        async function convertToInteractive(key) {\n",
              "          const element = document.querySelector('#df-523442f1-1a07-404c-ba6f-1ecb9d4027ef');\n",
              "          const dataTable =\n",
              "            await google.colab.kernel.invokeFunction('convertToInteractive',\n",
              "                                                     [key], {});\n",
              "          if (!dataTable) return;\n",
              "\n",
              "          const docLinkHtml = 'Like what you see? Visit the ' +\n",
              "            '<a target=\"_blank\" href=https://colab.research.google.com/notebooks/data_table.ipynb>data table notebook</a>'\n",
              "            + ' to learn more about interactive tables.';\n",
              "          element.innerHTML = '';\n",
              "          dataTable['output_type'] = 'display_data';\n",
              "          await google.colab.output.renderOutput(dataTable, element);\n",
              "          const docLink = document.createElement('div');\n",
              "          docLink.innerHTML = docLinkHtml;\n",
              "          element.appendChild(docLink);\n",
              "        }\n",
              "      </script>\n",
              "    </div>\n",
              "  </div>\n",
              "  "
            ]
          },
          "metadata": {},
          "execution_count": 33
        }
      ]
    },
    {
      "cell_type": "markdown",
      "source": [
        "# 3.1 Crear nuevas variables"
      ],
      "metadata": {
        "id": "3WuYgsn7akpH"
      }
    },
    {
      "cell_type": "code",
      "source": [
        "#crear una variable tiplo flag para los pasajeros que viajen solos\n",
        "train['FlagSolo'] = np.where(\n",
        "    (train['SibSp'] == 0) & (train['Parch'] == 0),1,0\n",
        ")"
      ],
      "metadata": {
        "id": "AknV_jNTakMp"
      },
      "execution_count": 20,
      "outputs": []
    },
    {
      "cell_type": "code",
      "source": [
        "grouped_flag = train.groupby(['Survived', 'FlagSolo']).count()['PassengerId']\n",
        "print(grouped_flag)\n",
        "(grouped_flag.unstack(level=0).plot.bar())\n",
        "plt.show()"
      ],
      "metadata": {
        "colab": {
          "base_uri": "https://localhost:8080/",
          "height": 380
        },
        "id": "l0C8ap6pMHmb",
        "outputId": "10c0a29d-d9cf-43ca-f886-00039d5b5fdf"
      },
      "execution_count": 23,
      "outputs": [
        {
          "output_type": "stream",
          "name": "stdout",
          "text": [
            "Survived  FlagSolo\n",
            "0         0           175\n",
            "          1           374\n",
            "1         0           179\n",
            "          1           163\n",
            "Name: PassengerId, dtype: int64\n"
          ]
        },
        {
          "output_type": "display_data",
          "data": {
            "text/plain": [
              "<Figure size 432x288 with 1 Axes>"
            ],
            "image/png": "[encoded data removed]"
          },
          "metadata": {
            "needs_background": "light"
          }
        }
      ]
    },
    {
      "cell_type": "code",
      "source": [
        "train[['Survived', 'Sex', 'Age', 'Pclass', 'FlagSolo']].head()"
      ],
      "metadata": {
        "colab": {
          "base_uri": "https://localhost:8080/",
          "height": 206
        },
        "id": "p-sIOcboNDtQ",
        "outputId": "27db7f99-57b0-4d5e-dd1b-40610a883b2c"
      },
      "execution_count": 24,
      "outputs": [
        {
          "output_type": "execute_result",
          "data": {
            "text/plain": [
              "   Survived  Sex   Age  Pclass  FlagSolo\n",
              "0         0    0  22.0       3         0\n",
              "1         1    1  38.0       1         0\n",
              "2         1    1  26.0       3         1\n",
              "3         1    1  35.0       1         0\n",
              "4         0    0  35.0       3         1"
            ],
            "text/html": [
              "\n",
              "  <div id=\"df-39f7bf39-424a-49bf-822e-21c8e48b3cf5\">\n",
              "    <div class=\"colab-df-container\">\n",
              "      <div>\n",
              "<style scoped>\n",
              "    .dataframe tbody tr th:only-of-type {\n",
              "        vertical-align: middle;\n",
              "    }\n",
              "\n",
              "    .dataframe tbody tr th {\n",
              "        vertical-align: top;\n",
              "    }\n",
              "\n",
              "    .dataframe thead th {\n",
              "        text-align: right;\n",
              "    }\n",
              "</style>\n",
              "<table border=\"1\" class=\"dataframe\">\n",
              "  <thead>\n",
              "    <tr style=\"text-align: right;\">\n",
              "      <th></th>\n",
              "      <th>Survived</th>\n",
              "      <th>Sex</th>\n",
              "      <th>Age</th>\n",
              "      <th>Pclass</th>\n",
              "      <th>FlagSolo</th>\n",
              "    </tr>\n",
              "  </thead>\n",
              "  <tbody>\n",
              "    <tr>\n",
              "      <th>0</th>\n",
              "      <td>0</td>\n",
              "      <td>0</td>\n",
              "      <td>22.0</td>\n",
              "      <td>3</td>\n",
              "      <td>0</td>\n",
              "    </tr>\n",
              "    <tr>\n",
              "      <th>1</th>\n",
              "      <td>1</td>\n",
              "      <td>1</td>\n",
              "      <td>38.0</td>\n",
              "      <td>1</td>\n",
              "      <td>0</td>\n",
              "    </tr>\n",
              "    <tr>\n",
              "      <th>2</th>\n",
              "      <td>1</td>\n",
              "      <td>1</td>\n",
              "      <td>26.0</td>\n",
              "      <td>3</td>\n",
              "      <td>1</td>\n",
              "    </tr>\n",
              "    <tr>\n",
              "      <th>3</th>\n",
              "      <td>1</td>\n",
              "      <td>1</td>\n",
              "      <td>35.0</td>\n",
              "      <td>1</td>\n",
              "      <td>0</td>\n",
              "    </tr>\n",
              "    <tr>\n",
              "      <th>4</th>\n",
              "      <td>0</td>\n",
              "      <td>0</td>\n",
              "      <td>35.0</td>\n",
              "      <td>3</td>\n",
              "      <td>1</td>\n",
              "    </tr>\n",
              "  </tbody>\n",
              "</table>\n",
              "</div>\n",
              "      <button class=\"colab-df-convert\" onclick=\"convertToInteractive('df-39f7bf39-424a-49bf-822e-21c8e48b3cf5')\"\n",
              "              title=\"Convert this dataframe to an interactive table.\"\n",
              "              style=\"display:none;\">\n",
              "        \n",
              "  <svg xmlns=\"http://www.w3.org/2000/svg\" height=\"24px\"viewBox=\"0 0 24 24\"\n",
              "       width=\"24px\">\n",
              "    <path d=\"M0 0h24v24H0V0z\" fill=\"none\"/>\n",
              "    <path d=\"M18.56 5.44l.94 2.06.94-2.06 2.06-.94-2.06-.94-.94-2.06-.94 2.06-2.06.94zm-11 1L8.5 8.5l.94-2.06 2.06-.94-2.06-.94L8.5 2.5l-.94 2.06-2.06.94zm10 10l.94 2.06.94-2.06 2.06-.94-2.06-.94-.94-2.06-.94 2.06-2.06.94z\"/><path d=\"M17.41 7.96l-1.37-1.37c-.4-.4-.92-.59-1.43-.59-.52 0-1.04.2-1.43.59L10.3 9.45l-7.72 7.72c-.78.78-.78 2.05 0 2.83L4 21.41c.39.39.9.59 1.41.59.51 0 1.02-.2 1.41-.59l7.78-7.78 2.81-2.81c.8-.78.8-2.07 0-2.86zM5.41 20L4 18.59l7.72-7.72 1.47 1.35L5.41 20z\"/>\n",
              "  </svg>\n",
              "      </button>\n",
              "      \n",
              "  <style>\n",
              "    .colab-df-container {\n",
              "      display:flex;\n",
              "      flex-wrap:wrap;\n",
              "      gap: 12px;\n",
              "    }\n",
              "\n",
              "    .colab-df-convert {\n",
              "      background-color: #E8F0FE;\n",
              "      border: none;\n",
              "      border-radius: 50%;\n",
              "      cursor: pointer;\n",
              "      display: none;\n",
              "      fill: #1967D2;\n",
              "      height: 32px;\n",
              "      padding: 0 0 0 0;\n",
              "      width: 32px;\n",
              "    }\n",
              "\n",
              "    .colab-df-convert:hover {\n",
              "      background-color: #E2EBFA;\n",
              "      box-shadow: 0px 1px 2px rgba(60, 64, 67, 0.3), 0px 1px 3px 1px rgba(60, 64, 67, 0.15);\n",
              "      fill: #174EA6;\n",
              "    }\n",
              "\n",
              "    [theme=dark] .colab-df-convert {\n",
              "      background-color: #3B4455;\n",
              "      fill: #D2E3FC;\n",
              "    }\n",
              "\n",
              "    [theme=dark] .colab-df-convert:hover {\n",
              "      background-color: #434B5C;\n",
              "      box-shadow: 0px 1px 3px 1px rgba(0, 0, 0, 0.15);\n",
              "      filter: drop-shadow(0px 1px 2px rgba(0, 0, 0, 0.3));\n",
              "      fill: #FFFFFF;\n",
              "    }\n",
              "  </style>\n",
              "\n",
              "      <script>\n",
              "        const buttonEl =\n",
              "          document.querySelector('#df-39f7bf39-424a-49bf-822e-21c8e48b3cf5 button.colab-df-convert');\n",
              "        buttonEl.style.display =\n",
              "          google.colab.kernel.accessAllowed ? 'block' : 'none';\n",
              "\n",
              "        async function convertToInteractive(key) {\n",
              "          const element = document.querySelector('#df-39f7bf39-424a-49bf-822e-21c8e48b3cf5');\n",
              "          const dataTable =\n",
              "            await google.colab.kernel.invokeFunction('convertToInteractive',\n",
              "                                                     [key], {});\n",
              "          if (!dataTable) return;\n",
              "\n",
              "          const docLinkHtml = 'Like what you see? Visit the ' +\n",
              "            '<a target=\"_blank\" href=https://colab.research.google.com/notebooks/data_table.ipynb>data table notebook</a>'\n",
              "            + ' to learn more about interactive tables.';\n",
              "          element.innerHTML = '';\n",
              "          dataTable['output_type'] = 'display_data';\n",
              "          await google.colab.output.renderOutput(dataTable, element);\n",
              "          const docLink = document.createElement('div');\n",
              "          docLink.innerHTML = docLinkHtml;\n",
              "          element.appendChild(docLink);\n",
              "        }\n",
              "      </script>\n",
              "    </div>\n",
              "  </div>\n",
              "  "
            ]
          },
          "metadata": {},
          "execution_count": 24
        }
      ]
    },
    {
      "cell_type": "markdown",
      "source": [
        "Datos para hacer el modelo"
      ],
      "metadata": {
        "id": "4G-nnLn9Ogf8"
      }
    },
    {
      "cell_type": "code",
      "source": [
        "#Variable dependiente\n",
        "Y_train = train['Survived']\n",
        "\n",
        "#Procesamiento de variables independientes\n",
        "features = ['Sex', 'Age', 'Pclass', 'FlagSolo']\n",
        "X_train = train[features]\n",
        "print(Y_train.shape, X_train.shape)"
      ],
      "metadata": {
        "colab": {
          "base_uri": "https://localhost:8080/"
        },
        "id": "_TkFjKx-Oerq",
        "outputId": "daa325a9-738d-4591-a5e6-c17201b192d6"
      },
      "execution_count": 25,
      "outputs": [
        {
          "output_type": "stream",
          "name": "stdout",
          "text": [
            "(891,) (891, 4)\n"
          ]
        }
      ]
    },
    {
      "cell_type": "markdown",
      "source": [
        "# Modelos\n",
        "\n",
        "\n",
        "*   Regresion logistica\n",
        "*   Arboles de decision\n",
        "\n"
      ],
      "metadata": {
        "id": "GviVHVhwPKsU"
      }
    },
    {
      "cell_type": "code",
      "source": [
        "#Entrenando modelo de regresion logistica\n",
        "\n",
        "from sklearn.linear_model import LogisticRegression\n",
        "\n",
        "logreg = LogisticRegression()\n",
        "logreg.fit(X_train, Y_train)"
      ],
      "metadata": {
        "colab": {
          "base_uri": "https://localhost:8080/"
        },
        "id": "-jc5c4EsQIr0",
        "outputId": "9ac38f4c-75e4-4731-ee4b-8bccb99de232"
      },
      "execution_count": 26,
      "outputs": [
        {
          "output_type": "execute_result",
          "data": {
            "text/plain": [
              "LogisticRegression()"
            ]
          },
          "metadata": {},
          "execution_count": 26
        }
      ]
    },
    {
      "cell_type": "code",
      "source": [
        "#Entranando modelo de arboles de decision\n",
        "\n",
        "from sklearn.tree import DecisionTreeClassifier\n",
        "\n",
        "decision_tree = DecisionTreeClassifier()\n",
        "decision_tree.fit(X_train, Y_train)"
      ],
      "metadata": {
        "colab": {
          "base_uri": "https://localhost:8080/"
        },
        "id": "b1KvrQKqQrc6",
        "outputId": "d936267a-4824-49c8-854d-230debb2c9a9"
      },
      "execution_count": 27,
      "outputs": [
        {
          "output_type": "execute_result",
          "data": {
            "text/plain": [
              "DecisionTreeClassifier()"
            ]
          },
          "metadata": {},
          "execution_count": 27
        }
      ]
    },
    {
      "cell_type": "markdown",
      "source": [
        "# Evaluacion"
      ],
      "metadata": {
        "id": "SeyosGbmREk-"
      }
    },
    {
      "cell_type": "markdown",
      "source": [
        "Se evaluara que tan bueno es cada modelo con una matriz de confunsion"
      ],
      "metadata": {
        "id": "Vg7e9dLMRGr9"
      }
    },
    {
      "cell_type": "code",
      "source": [
        "from sklearn.metrics import plot_confusion_matrix\n",
        "\n",
        "def conf_mat_acc(modelo):\n",
        "  disp = plot_confusion_matrix(modelo, X_train, Y_train, \n",
        "                               cmap=plt.cm.Blues, values_format=\"d\")\n",
        "  true_pred = disp.confusion_matrix[0,0]+disp.confusion_matrix[1,1]\n",
        "  total_data = np.sum(disp.confusion_matrix)\n",
        "  accuracy = true_pred/total_data\n",
        "  print('accuracy: ', np.round(accuracy, 2))\n",
        "  plt.show()"
      ],
      "metadata": {
        "id": "1nSjCqFcRYL0"
      },
      "execution_count": 28,
      "outputs": []
    },
    {
      "cell_type": "code",
      "source": [
        "conf_mat_acc(logreg)"
      ],
      "metadata": {
        "colab": {
          "base_uri": "https://localhost:8080/",
          "height": 352
        },
        "id": "PAaXDKsgShtY",
        "outputId": "7065d813-2aef-4386-e799-6cd73f07df35"
      },
      "execution_count": 29,
      "outputs": [
        {
          "output_type": "stream",
          "name": "stderr",
          "text": [
            "/usr/local/lib/python3.7/dist-packages/sklearn/utils/deprecation.py:87: FutureWarning: Function plot_confusion_matrix is deprecated; Function `plot_confusion_matrix` is deprecated in 1.0 and will be removed in 1.2. Use one of the class methods: ConfusionMatrixDisplay.from_predictions or ConfusionMatrixDisplay.from_estimator.\n",
            "  warnings.warn(msg, category=FutureWarning)\n"
          ]
        },
        {
          "output_type": "stream",
          "name": "stdout",
          "text": [
            "accuracy:  0.79\n"
          ]
        },
        {
          "output_type": "display_data",
          "data": {
            "text/plain": [
              "<Figure size 432x288 with 2 Axes>"
            ],
            "image/png": "[encoded data removed]"
          },
          "metadata": {
            "needs_background": "light"
          }
        }
      ]
    },
    {
      "cell_type": "code",
      "source": [
        "conf_mat_acc(decision_tree)"
      ],
      "metadata": {
        "colab": {
          "base_uri": "https://localhost:8080/",
          "height": 351
        },
        "id": "Sb1BjtjkSsxn",
        "outputId": "a4846a19-4b29-4226-92e2-b6e5ffa0b3f8"
      },
      "execution_count": 30,
      "outputs": [
        {
          "output_type": "stream",
          "name": "stderr",
          "text": [
            "/usr/local/lib/python3.7/dist-packages/sklearn/utils/deprecation.py:87: FutureWarning: Function plot_confusion_matrix is deprecated; Function `plot_confusion_matrix` is deprecated in 1.0 and will be removed in 1.2. Use one of the class methods: ConfusionMatrixDisplay.from_predictions or ConfusionMatrixDisplay.from_estimator.\n",
            "  warnings.warn(msg, category=FutureWarning)\n"
          ]
        },
        {
          "output_type": "stream",
          "name": "stdout",
          "text": [
            "accuracy:  0.89\n"
          ]
        },
        {
          "output_type": "display_data",
          "data": {
            "text/plain": [
              "<Figure size 432x288 with 2 Axes>"
            ],
            "image/png": "[encoded data removed]"
          },
          "metadata": {
            "needs_background": "light"
          }
        }
      ]
    },
    {
      "cell_type": "markdown",
      "source": [
        "# 5.1 Evaluación sobre el test set\n",
        "\n",
        "Kaggle no nos regresa el valor real del test set, para verificarlo tenemos que enviar nuestros resultados y mirar el score que pone kaggle."
      ],
      "metadata": {
        "id": "71RBLBdfTrVE"
      }
    },
    {
      "cell_type": "code",
      "source": [
        "#Preparar el test set para evalucion\n",
        "\n",
        "print(test.head())\n",
        "test.info()"
      ],
      "metadata": {
        "colab": {
          "base_uri": "https://localhost:8080/"
        },
        "id": "FldiOt4LTq-z",
        "outputId": "89bf462e-c954-49d9-c8ca-66e42fbb26b4"
      },
      "execution_count": 31,
      "outputs": [
        {
          "output_type": "stream",
          "name": "stdout",
          "text": [
            "   PassengerId  Pclass                                          Name     Sex  \\\n",
            "0          892       3                              Kelly, Mr. James    male   \n",
            "1          893       3              Wilkes, Mrs. James (Ellen Needs)  female   \n",
            "2          894       2                     Myles, Mr. Thomas Francis    male   \n",
            "3          895       3                              Wirz, Mr. Albert    male   \n",
            "4          896       3  Hirvonen, Mrs. Alexander (Helga E Lindqvist)  female   \n",
            "\n",
            "    Age  SibSp  Parch   Ticket     Fare Cabin Embarked  \n",
            "0  34.5      0      0   330911   7.8292   NaN        Q  \n",
            "1  47.0      1      0   363272   7.0000   NaN        S  \n",
            "2  62.0      0      0   240276   9.6875   NaN        Q  \n",
            "3  27.0      0      0   315154   8.6625   NaN        S  \n",
            "4  22.0      1      1  3101298  12.2875   NaN        S  \n",
            "<class 'pandas.core.frame.DataFrame'>\n",
            "RangeIndex: 418 entries, 0 to 417\n",
            "Data columns (total 11 columns):\n",
            " #   Column       Non-Null Count  Dtype  \n",
            "---  ------       --------------  -----  \n",
            " 0   PassengerId  418 non-null    int64  \n",
            " 1   Pclass       418 non-null    int64  \n",
            " 2   Name         418 non-null    object \n",
            " 3   Sex          418 non-null    object \n",
            " 4   Age          332 non-null    float64\n",
            " 5   SibSp        418 non-null    int64  \n",
            " 6   Parch        418 non-null    int64  \n",
            " 7   Ticket       418 non-null    object \n",
            " 8   Fare         417 non-null    float64\n",
            " 9   Cabin        91 non-null     object \n",
            " 10  Embarked     418 non-null    object \n",
            "dtypes: float64(2), int64(4), object(5)\n",
            "memory usage: 36.0+ KB\n"
          ]
        }
      ]
    },
    {
      "cell_type": "code",
      "source": [
        "# preprocesando test set\n",
        "\n",
        "# hacer map a Sex\n",
        "test['Sex'] = test['Sex'].map({'female': 1, 'male': 0}).astype(int)\n",
        "\n",
        "# rellenar Age\n",
        "test['Age'] = test['Age'].fillna(28.0)\n",
        "\n",
        "# Crear FlagSolo\n",
        "test['FlagSolo'] = np.where(\n",
        "    (test['SibSp'] == 0) & (test['Parch'] == 0), 1, 0)"
      ],
      "metadata": {
        "id": "8MKdA8HyUgHP"
      },
      "execution_count": 32,
      "outputs": []
    },
    {
      "cell_type": "code",
      "source": [
        "print(test.info())\n",
        "test[features].head(3)"
      ],
      "metadata": {
        "colab": {
          "base_uri": "https://localhost:8080/",
          "height": 491
        },
        "id": "7d_ZnqSHUhYA",
        "outputId": "5aa7bd2d-bb18-4ed2-ca04-18fc3a428518"
      },
      "execution_count": 33,
      "outputs": [
        {
          "output_type": "stream",
          "name": "stdout",
          "text": [
            "<class 'pandas.core.frame.DataFrame'>\n",
            "RangeIndex: 418 entries, 0 to 417\n",
            "Data columns (total 12 columns):\n",
            " #   Column       Non-Null Count  Dtype  \n",
            "---  ------       --------------  -----  \n",
            " 0   PassengerId  418 non-null    int64  \n",
            " 1   Pclass       418 non-null    int64  \n",
            " 2   Name         418 non-null    object \n",
            " 3   Sex          418 non-null    int64  \n",
            " 4   Age          418 non-null    float64\n",
            " 5   SibSp        418 non-null    int64  \n",
            " 6   Parch        418 non-null    int64  \n",
            " 7   Ticket       418 non-null    object \n",
            " 8   Fare         417 non-null    float64\n",
            " 9   Cabin        91 non-null     object \n",
            " 10  Embarked     418 non-null    object \n",
            " 11  FlagSolo     418 non-null    int64  \n",
            "dtypes: float64(2), int64(6), object(4)\n",
            "memory usage: 39.3+ KB\n",
            "None\n"
          ]
        },
        {
          "output_type": "execute_result",
          "data": {
            "text/plain": [
              "   Sex   Age  Pclass  FlagSolo\n",
              "0    0  34.5       3         1\n",
              "1    1  47.0       3         0\n",
              "2    0  62.0       2         1"
            ],
            "text/html": [
              "\n",
              "  <div id=\"df-36d7e4ea-f3f9-443b-bb0c-e161cfbc1720\">\n",
              "    <div class=\"colab-df-container\">\n",
              "      <div>\n",
              "<style scoped>\n",
              "    .dataframe tbody tr th:only-of-type {\n",
              "        vertical-align: middle;\n",
              "    }\n",
              "\n",
              "    .dataframe tbody tr th {\n",
              "        vertical-align: top;\n",
              "    }\n",
              "\n",
              "    .dataframe thead th {\n",
              "        text-align: right;\n",
              "    }\n",
              "</style>\n",
              "<table border=\"1\" class=\"dataframe\">\n",
              "  <thead>\n",
              "    <tr style=\"text-align: right;\">\n",
              "      <th></th>\n",
              "      <th>Sex</th>\n",
              "      <th>Age</th>\n",
              "      <th>Pclass</th>\n",
              "      <th>FlagSolo</th>\n",
              "    </tr>\n",
              "  </thead>\n",
              "  <tbody>\n",
              "    <tr>\n",
              "      <th>0</th>\n",
              "      <td>0</td>\n",
              "      <td>34.5</td>\n",
              "      <td>3</td>\n",
              "      <td>1</td>\n",
              "    </tr>\n",
              "    <tr>\n",
              "      <th>1</th>\n",
              "      <td>1</td>\n",
              "      <td>47.0</td>\n",
              "      <td>3</td>\n",
              "      <td>0</td>\n",
              "    </tr>\n",
              "    <tr>\n",
              "      <th>2</th>\n",
              "      <td>0</td>\n",
              "      <td>62.0</td>\n",
              "      <td>2</td>\n",
              "      <td>1</td>\n",
              "    </tr>\n",
              "  </tbody>\n",
              "</table>\n",
              "</div>\n",
              "      <button class=\"colab-df-convert\" onclick=\"convertToInteractive('df-36d7e4ea-f3f9-443b-bb0c-e161cfbc1720')\"\n",
              "              title=\"Convert this dataframe to an interactive table.\"\n",
              "              style=\"display:none;\">\n",
              "        \n",
              "  <svg xmlns=\"http://www.w3.org/2000/svg\" height=\"24px\"viewBox=\"0 0 24 24\"\n",
              "       width=\"24px\">\n",
              "    <path d=\"M0 0h24v24H0V0z\" fill=\"none\"/>\n",
              "    <path d=\"M18.56 5.44l.94 2.06.94-2.06 2.06-.94-2.06-.94-.94-2.06-.94 2.06-2.06.94zm-11 1L8.5 8.5l.94-2.06 2.06-.94-2.06-.94L8.5 2.5l-.94 2.06-2.06.94zm10 10l.94 2.06.94-2.06 2.06-.94-2.06-.94-.94-2.06-.94 2.06-2.06.94z\"/><path d=\"M17.41 7.96l-1.37-1.37c-.4-.4-.92-.59-1.43-.59-.52 0-1.04.2-1.43.59L10.3 9.45l-7.72 7.72c-.78.78-.78 2.05 0 2.83L4 21.41c.39.39.9.59 1.41.59.51 0 1.02-.2 1.41-.59l7.78-7.78 2.81-2.81c.8-.78.8-2.07 0-2.86zM5.41 20L4 18.59l7.72-7.72 1.47 1.35L5.41 20z\"/>\n",
              "  </svg>\n",
              "      </button>\n",
              "      \n",
              "  <style>\n",
              "    .colab-df-container {\n",
              "      display:flex;\n",
              "      flex-wrap:wrap;\n",
              "      gap: 12px;\n",
              "    }\n",
              "\n",
              "    .colab-df-convert {\n",
              "      background-color: #E8F0FE;\n",
              "      border: none;\n",
              "      border-radius: 50%;\n",
              "      cursor: pointer;\n",
              "      display: none;\n",
              "      fill: #1967D2;\n",
              "      height: 32px;\n",
              "      padding: 0 0 0 0;\n",
              "      width: 32px;\n",
              "    }\n",
              "\n",
              "    .colab-df-convert:hover {\n",
              "      background-color: #E2EBFA;\n",
              "      box-shadow: 0px 1px 2px rgba(60, 64, 67, 0.3), 0px 1px 3px 1px rgba(60, 64, 67, 0.15);\n",
              "      fill: #174EA6;\n",
              "    }\n",
              "\n",
              "    [theme=dark] .colab-df-convert {\n",
              "      background-color: #3B4455;\n",
              "      fill: #D2E3FC;\n",
              "    }\n",
              "\n",
              "    [theme=dark] .colab-df-convert:hover {\n",
              "      background-color: #434B5C;\n",
              "      box-shadow: 0px 1px 3px 1px rgba(0, 0, 0, 0.15);\n",
              "      filter: drop-shadow(0px 1px 2px rgba(0, 0, 0, 0.3));\n",
              "      fill: #FFFFFF;\n",
              "    }\n",
              "  </style>\n",
              "\n",
              "      <script>\n",
              "        const buttonEl =\n",
              "          document.querySelector('#df-36d7e4ea-f3f9-443b-bb0c-e161cfbc1720 button.colab-df-convert');\n",
              "        buttonEl.style.display =\n",
              "          google.colab.kernel.accessAllowed ? 'block' : 'none';\n",
              "\n",
              "        async function convertToInteractive(key) {\n",
              "          const element = document.querySelector('#df-36d7e4ea-f3f9-443b-bb0c-e161cfbc1720');\n",
              "          const dataTable =\n",
              "            await google.colab.kernel.invokeFunction('convertToInteractive',\n",
              "                                                     [key], {});\n",
              "          if (!dataTable) return;\n",
              "\n",
              "          const docLinkHtml = 'Like what you see? Visit the ' +\n",
              "            '<a target=\"_blank\" href=https://colab.research.google.com/notebooks/data_table.ipynb>data table notebook</a>'\n",
              "            + ' to learn more about interactive tables.';\n",
              "          element.innerHTML = '';\n",
              "          dataTable['output_type'] = 'display_data';\n",
              "          await google.colab.output.renderOutput(dataTable, element);\n",
              "          const docLink = document.createElement('div');\n",
              "          docLink.innerHTML = docLinkHtml;\n",
              "          element.appendChild(docLink);\n",
              "        }\n",
              "      </script>\n",
              "    </div>\n",
              "  </div>\n",
              "  "
            ]
          },
          "metadata": {},
          "execution_count": 33
        }
      ]
    },
    {
      "cell_type": "code",
      "source": [
        "# crear test set \n",
        "X_test = test[features]\n",
        "\n",
        "print(X_test.shape)"
      ],
      "metadata": {
        "colab": {
          "base_uri": "https://localhost:8080/"
        },
        "id": "idYodDRRUmN5",
        "outputId": "46bcb3c3-d1ba-4b9a-b36d-f1c8d425c51a"
      },
      "execution_count": 34,
      "outputs": [
        {
          "output_type": "stream",
          "name": "stdout",
          "text": [
            "(418, 4)\n"
          ]
        }
      ]
    },
    {
      "cell_type": "code",
      "source": [
        "# prediccion de Survived en test set\n",
        "Y_pred_log = logreg.predict(X_test)\n",
        "Y_pred_tree = decision_tree.predict(X_test)\n",
        "print(Y_pred_log[0:10])"
      ],
      "metadata": {
        "colab": {
          "base_uri": "https://localhost:8080/"
        },
        "id": "Q9XxnlpKU5o3",
        "outputId": "931e41fc-cbae-4d72-bcf4-a47c3259e0c8"
      },
      "execution_count": 35,
      "outputs": [
        {
          "output_type": "stream",
          "name": "stdout",
          "text": [
            "[0 0 0 0 1 0 1 0 1 0]\n"
          ]
        }
      ]
    },
    {
      "cell_type": "markdown",
      "source": [
        "# 6. Predicción"
      ],
      "metadata": {
        "id": "7EtVZGFXVBy4"
      }
    },
    {
      "cell_type": "code",
      "source": [
        "# prediciendo sobre el test set\n",
        "print(Y_pred_log[0:20])\n",
        "print(Y_pred_tree[0:20])"
      ],
      "metadata": {
        "colab": {
          "base_uri": "https://localhost:8080/"
        },
        "id": "cfWnxxXfVDH6",
        "outputId": "a1a7fcfb-6f5e-457c-9441-3d703934919d"
      },
      "execution_count": 36,
      "outputs": [
        {
          "output_type": "stream",
          "name": "stdout",
          "text": [
            "[0 0 0 0 1 0 1 0 1 0 0 0 1 0 1 1 0 0 1 0]\n",
            "[0 0 1 1 0 0 0 0 0 0 0 0 1 0 1 1 0 0 1 0]\n"
          ]
        }
      ]
    },
    {
      "cell_type": "code",
      "source": [
        "# Descargar csv en el pc\n",
        "def download_output(y_pred, name):\n",
        "  output = pd.DataFrame({'PassengerId': test.PassengerId, \n",
        "                         'Survived': y_pred})\n",
        "  output.to_csv(name, index=False)"
      ],
      "metadata": {
        "id": "1VLlGKgFVRGB"
      },
      "execution_count": 37,
      "outputs": []
    },
    {
      "cell_type": "code",
      "source": [
        "download_output(Y_pred_log, 'pred_log.csv')\n",
        "download_output(Y_pred_tree, 'pred_tree.csv')"
      ],
      "metadata": {
        "id": "QRokORdfVYj7"
      },
      "execution_count": 38,
      "outputs": []
    },
    {
      "cell_type": "markdown",
      "source": [
        "Luego de hacer el envio a kaggle:\n",
        "![Captura.PNG](data:image/png;base64,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)"
      ],
      "metadata": {
        "id": "FrFE3rewXGfP"
      }
    },
    {
      "cell_type": "markdown",
      "source": [
        "Con lo que muestra que en el test_set hay un mejor valor para accuracy que con train set.\n",
        "\n",
        "Por esta razón, nos quedaríamos con el modelo de regresión logística. Porque generaliza mejor las predicciones para datos con los que no se ha entrenado el modelo."
      ],
      "metadata": {
        "id": "BYFUuIE9XZ99"
      }
    }
  ]
}